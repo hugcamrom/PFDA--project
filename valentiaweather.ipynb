{
 "cells": [
  {
   "cell_type": "markdown",
   "metadata": {},
   "source": [
    "# Valentia Observatory Weather\n",
    "****\n",
    "This notebook contains the weather analysis of Valentia observatory dataset obtained [Met Eireann](https://www.met.ie/climate/available-data/historical-data) historical records."
   ]
  }
 ],
 "metadata": {
  "language_info": {
   "name": "python"
  }
 },
 "nbformat": 4,
 "nbformat_minor": 2
}
