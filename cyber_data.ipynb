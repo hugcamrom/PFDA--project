{
 "cells": [
  {
   "cell_type": "markdown",
   "metadata": {},
   "source": [
    "# Cybercrime Data Analysis Project\n",
    "****\n",
    "\n",
    "## Overview\n",
    "\n",
    "\n",
    "This project focuses on analyzing global cybercrime trends using the `cyber_data.csv` dataset. The dataset provides historical information on cyber-attacks spanning 14 months (October 2022 to December 2023) across 225 countries. It contains 77,623 rows and 18 fields, categorizing incidents by attack vector, target sector, and geography.\n",
    "\n",
    "Using advanced data analysis and visualization techniques, this project explores patterns, trends, and insights to understand the global impact of cybercrime. Additionally, machine learning will be leveraged for predictive analytics.\n"
   ]
  }
 ],
 "metadata": {
  "language_info": {
   "name": "python"
  }
 },
 "nbformat": 4,
 "nbformat_minor": 2
}
